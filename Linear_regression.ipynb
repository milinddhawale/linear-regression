{
 "cells": [
  {
   "cell_type": "markdown",
   "id": "4f9d1e91",
   "metadata": {},
   "source": [
    "## Linear Regression"
   ]
  },
  {
   "cell_type": "markdown",
   "id": "c0cf6bd2",
   "metadata": {},
   "source": [
    "**Linear regression** is a statistical method used in machine learning and statistics to **model the relationship between a dependent variable and one or more independent variables** by fitting a linear equation to the observed data. The goal of linear regression is to find the best-fitting line (or hyperplane, in the case of multiple independent variables) that minimizes the difference between the predicted and actual values of the dependent variable.\n",
    "\n"
   ]
  },
  {
   "cell_type": "code",
   "execution_count": 9,
   "id": "82613b6a",
   "metadata": {},
   "outputs": [],
   "source": [
    "from __future__ import absolute_import, division, print_function"
   ]
  },
  {
   "cell_type": "code",
   "execution_count": 10,
   "id": "bc8846f6",
   "metadata": {},
   "outputs": [],
   "source": [
    "#!pip install --upgrade tensorflow"
   ]
  },
  {
   "cell_type": "code",
   "execution_count": 11,
   "id": "2b82bb9b",
   "metadata": {},
   "outputs": [],
   "source": [
    "import tensorflow as tf\n",
    "import numpy as np\n",
    "rng = np.random"
   ]
  },
  {
   "cell_type": "code",
   "execution_count": 12,
   "id": "00fc1bd3",
   "metadata": {},
   "outputs": [],
   "source": [
    "#parameter\n",
    "learning_rate = 0.01\n",
    "training_steps = 1000\n",
    "display_step = 50"
   ]
  },
  {
   "cell_type": "markdown",
   "id": "371be1b5",
   "metadata": {},
   "source": [
    "### Training the data"
   ]
  },
  {
   "cell_type": "code",
   "execution_count": 13,
   "id": "22ffdb10",
   "metadata": {},
   "outputs": [],
   "source": [
    "X = np.array([3.3,4.4,5.5,6.71,6.93,4.168,9.779,6.182,7.59,2.167,\n",
    "              7.042,10.791,5.313,7.997,5.654,9.27,3.1])\n",
    "Y = np.array([1.7,2.76,2.09,3.19,1.694,1.573,3.366,2.596,2.53,1.221,\n",
    "              2.827,3.465,1.65,2.904,2.42,2.94,1.3])"
   ]
  },
  {
   "cell_type": "code",
   "execution_count": 14,
   "id": "c71c7e5d",
   "metadata": {},
   "outputs": [],
   "source": [
    "#weight and Bias, Initialized randomly\n",
    "w = tf.Variable(rng.randn(), name=\"weight\")\n",
    "b = tf.Variable(rng.randn(), name=\"bias\")\n",
    "\n",
    "#Linear regression(wx + b)\n",
    "def linear_regression(x):\n",
    "    return w * x + b\n",
    "\n",
    "#Mean square error\n",
    "def mean_square(y_pred, y_true):\n",
    "    return tf.reduce_mean(tf.square(y_pred -  y_true))\n",
    "\n",
    "#Stochastic Gradient Descent Optimizer\n",
    "optimizer = tf.optimizers.SGD(learning_rate)"
   ]
  },
  {
   "cell_type": "code",
   "execution_count": 15,
   "id": "e4b2716d",
   "metadata": {},
   "outputs": [],
   "source": [
    "#Optimization process\n",
    "def run_optimization():\n",
    "    #wrap computation inside a gradientape for automatic differentiation\n",
    "    with tf.GradientTape() as g:\n",
    "        pred = linear_regression(X)\n",
    "        loss = mean_square(pred, Y)\n",
    "        \n",
    "        #compute gradient\n",
    "        gradients = g.gradient(loss, [w,b])\n",
    "        \n",
    "        #Update w and b following gradients.\n",
    "        optimizer.apply_gradients(zip(gradients,[w,b]))"
   ]
  },
  {
   "cell_type": "code",
   "execution_count": 16,
   "id": "afea6632",
   "metadata": {},
   "outputs": [
    {
     "name": "stdout",
     "output_type": "stream",
     "text": [
      "step: 50, loss: 0.210571, w: 0.347105, b: 0.121961\n",
      "step: 100, loss: 0.198334, w: 0.336180, b: 0.199416\n",
      "step: 150, loss: 0.188737, w: 0.326505, b: 0.268007\n",
      "step: 200, loss: 0.181211, w: 0.317937, b: 0.328749\n",
      "step: 250, loss: 0.175309, w: 0.310350, b: 0.382540\n",
      "step: 300, loss: 0.170680, w: 0.303631, b: 0.430175\n",
      "step: 350, loss: 0.167050, w: 0.297680, b: 0.472359\n",
      "step: 400, loss: 0.164204, w: 0.292411, b: 0.509716\n",
      "step: 450, loss: 0.161971, w: 0.287745, b: 0.542798\n",
      "step: 500, loss: 0.160220, w: 0.283613, b: 0.572094\n",
      "step: 550, loss: 0.158847, w: 0.279953, b: 0.598037\n",
      "step: 600, loss: 0.157771, w: 0.276713, b: 0.621012\n",
      "step: 650, loss: 0.156926, w: 0.273843, b: 0.641357\n",
      "step: 700, loss: 0.156264, w: 0.271301, b: 0.659375\n",
      "step: 750, loss: 0.155745, w: 0.269051, b: 0.675330\n",
      "step: 800, loss: 0.155338, w: 0.267058, b: 0.689460\n",
      "step: 850, loss: 0.155018, w: 0.265293, b: 0.701972\n",
      "step: 900, loss: 0.154768, w: 0.263730, b: 0.713053\n",
      "step: 950, loss: 0.154572, w: 0.262346, b: 0.722866\n",
      "step: 1000, loss: 0.154417, w: 0.261120, b: 0.731555\n"
     ]
    }
   ],
   "source": [
    "#run training for the given number of steps.\n",
    "for step in range(1, training_steps + 1):\n",
    "    #run the optimization to update w and b values. \n",
    "    run_optimization()\n",
    "    \n",
    "    if step % display_step == 0:\n",
    "        pred = linear_regression(X)\n",
    "        loss = mean_square(pred, Y)\n",
    "        print(\"step: %i, loss: %f, w: %f, b: %f\" % (step, loss, w.numpy(), b.numpy()))"
   ]
  },
  {
   "cell_type": "code",
   "execution_count": 17,
   "id": "0e5a4838",
   "metadata": {},
   "outputs": [],
   "source": [
    "import matplotlib.pyplot as plt"
   ]
  },
  {
   "cell_type": "code",
   "execution_count": 19,
   "id": "15814614",
   "metadata": {},
   "outputs": [
    {
     "data": {
      "image/png": "[encoded data removed]",
      "text/plain": [
       "<Figure size 640x480 with 1 Axes>"
      ]
     },
     "metadata": {},
     "output_type": "display_data"
    }
   ],
   "source": [
    "# Graphic display\n",
    "plt.plot(X, Y, 'ro', label='Original data')\n",
    "plt.plot(X, np.array(w * X + b), label='Fitted line')\n",
    "plt.legend()\n",
    "plt.show()"
   ]
  },
  {
   "cell_type": "code",
   "execution_count": null,
   "id": "1be0adc5",
   "metadata": {},
   "outputs": [],
   "source": []
  }
 ],
 "metadata": {
  "kernelspec": {
   "display_name": "Python 3 (ipykernel)",
   "language": "python",
   "name": "python3"
  },
  "language_info": {
   "codemirror_mode": {
    "name": "ipython",
    "version": 3
   },
   "file_extension": ".py",
   "mimetype": "text/x-python",
   "name": "python",
   "nbconvert_exporter": "python",
   "pygments_lexer": "ipython3",
   "version": "3.9.13"
  }
 },
 "nbformat": 4,
 "nbformat_minor": 5
}
